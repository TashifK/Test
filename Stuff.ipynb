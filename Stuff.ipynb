{
    "cells": [
        {
            "cell_type": "markdown",
            "metadata": {
                "collapsed": true
            },
            "source": "# Test"
        },
        {
            "cell_type": "markdown",
            "metadata": {},
            "source": "Test notebook..."
        },
        {
            "cell_type": "markdown",
            "metadata": {},
            "source": "Import a CSV file with the \"Find and add data button at the top right\" --> Insert to code dropdown --> Insert as pandas dataframe\n\nIt imports the data below. Run the code, and a table should show up containing all the data in the CSV. It may take a few seconds to load."
        },
        {
            "cell_type": "code",
            "execution_count": 10,
            "metadata": {},
            "outputs": [
                {
                    "data": {
                        "text/html": "<div>\n<style scoped>\n    .dataframe tbody tr th:only-of-type {\n        vertical-align: middle;\n    }\n\n    .dataframe tbody tr th {\n        vertical-align: top;\n    }\n\n    .dataframe thead th {\n        text-align: right;\n    }\n</style>\n<table border=\"1\" class=\"dataframe\">\n  <thead>\n    <tr style=\"text-align: right;\">\n      <th></th>\n      <th>Series_reference</th>\n      <th>Period</th>\n      <th>Data_value</th>\n      <th>Suppressed</th>\n      <th>STATUS</th>\n      <th>UNITS</th>\n      <th>Magnitude</th>\n      <th>Subject</th>\n      <th>Group</th>\n      <th>Series_title_1</th>\n      <th>Series_title_2</th>\n      <th>Series_title_3</th>\n      <th>Series_title_4</th>\n      <th>Series_title_5</th>\n    </tr>\n  </thead>\n  <tbody>\n    <tr>\n      <th>0</th>\n      <td>BDCQ.SEA1AA</td>\n      <td>2011.06</td>\n      <td>80078.0</td>\n      <td>NaN</td>\n      <td>F</td>\n      <td>Number</td>\n      <td>0</td>\n      <td>Business Data Collection - BDC</td>\n      <td>Industry by employment variable</td>\n      <td>Filled jobs</td>\n      <td>Agriculture, Forestry and Fishing</td>\n      <td>Actual</td>\n      <td>NaN</td>\n      <td>NaN</td>\n    </tr>\n    <tr>\n      <th>1</th>\n      <td>BDCQ.SEA1AA</td>\n      <td>2011.09</td>\n      <td>78324.0</td>\n      <td>NaN</td>\n      <td>F</td>\n      <td>Number</td>\n      <td>0</td>\n      <td>Business Data Collection - BDC</td>\n      <td>Industry by employment variable</td>\n      <td>Filled jobs</td>\n      <td>Agriculture, Forestry and Fishing</td>\n      <td>Actual</td>\n      <td>NaN</td>\n      <td>NaN</td>\n    </tr>\n    <tr>\n      <th>2</th>\n      <td>BDCQ.SEA1AA</td>\n      <td>2011.12</td>\n      <td>85850.0</td>\n      <td>NaN</td>\n      <td>F</td>\n      <td>Number</td>\n      <td>0</td>\n      <td>Business Data Collection - BDC</td>\n      <td>Industry by employment variable</td>\n      <td>Filled jobs</td>\n      <td>Agriculture, Forestry and Fishing</td>\n      <td>Actual</td>\n      <td>NaN</td>\n      <td>NaN</td>\n    </tr>\n    <tr>\n      <th>3</th>\n      <td>BDCQ.SEA1AA</td>\n      <td>2012.03</td>\n      <td>90743.0</td>\n      <td>NaN</td>\n      <td>F</td>\n      <td>Number</td>\n      <td>0</td>\n      <td>Business Data Collection - BDC</td>\n      <td>Industry by employment variable</td>\n      <td>Filled jobs</td>\n      <td>Agriculture, Forestry and Fishing</td>\n      <td>Actual</td>\n      <td>NaN</td>\n      <td>NaN</td>\n    </tr>\n    <tr>\n      <th>4</th>\n      <td>BDCQ.SEA1AA</td>\n      <td>2012.06</td>\n      <td>81780.0</td>\n      <td>NaN</td>\n      <td>F</td>\n      <td>Number</td>\n      <td>0</td>\n      <td>Business Data Collection - BDC</td>\n      <td>Industry by employment variable</td>\n      <td>Filled jobs</td>\n      <td>Agriculture, Forestry and Fishing</td>\n      <td>Actual</td>\n      <td>NaN</td>\n      <td>NaN</td>\n    </tr>\n  </tbody>\n</table>\n</div>",
                        "text/plain": "  Series_reference   Period  Data_value Suppressed STATUS   UNITS  Magnitude  \\\n0      BDCQ.SEA1AA  2011.06     80078.0        NaN      F  Number          0   \n1      BDCQ.SEA1AA  2011.09     78324.0        NaN      F  Number          0   \n2      BDCQ.SEA1AA  2011.12     85850.0        NaN      F  Number          0   \n3      BDCQ.SEA1AA  2012.03     90743.0        NaN      F  Number          0   \n4      BDCQ.SEA1AA  2012.06     81780.0        NaN      F  Number          0   \n\n                          Subject                            Group  \\\n0  Business Data Collection - BDC  Industry by employment variable   \n1  Business Data Collection - BDC  Industry by employment variable   \n2  Business Data Collection - BDC  Industry by employment variable   \n3  Business Data Collection - BDC  Industry by employment variable   \n4  Business Data Collection - BDC  Industry by employment variable   \n\n  Series_title_1                     Series_title_2 Series_title_3  \\\n0    Filled jobs  Agriculture, Forestry and Fishing         Actual   \n1    Filled jobs  Agriculture, Forestry and Fishing         Actual   \n2    Filled jobs  Agriculture, Forestry and Fishing         Actual   \n3    Filled jobs  Agriculture, Forestry and Fishing         Actual   \n4    Filled jobs  Agriculture, Forestry and Fishing         Actual   \n\n   Series_title_4  Series_title_5  \n0             NaN             NaN  \n1             NaN             NaN  \n2             NaN             NaN  \n3             NaN             NaN  \n4             NaN             NaN  "
                    },
                    "execution_count": 10,
                    "metadata": {},
                    "output_type": "execute_result"
                }
            ],
            "source": "# The code was removed by Watson Studio for sharing."
        },
        {
            "cell_type": "code",
            "execution_count": null,
            "metadata": {},
            "outputs": [],
            "source": ""
        }
    ],
    "metadata": {
        "kernelspec": {
            "display_name": "Python 3.7",
            "language": "python",
            "name": "python3"
        },
        "language_info": {
            "codemirror_mode": {
                "name": "ipython",
                "version": 3
            },
            "file_extension": ".py",
            "mimetype": "text/x-python",
            "name": "python",
            "nbconvert_exporter": "python",
            "pygments_lexer": "ipython3",
            "version": "3.7.10"
        }
    },
    "nbformat": 4,
    "nbformat_minor": 1
}